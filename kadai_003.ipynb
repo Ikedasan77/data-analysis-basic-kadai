{
  "nbformat": 4,
  "nbformat_minor": 0,
  "metadata": {
    "colab": {
      "provenance": []
    },
    "kernelspec": {
      "name": "python3",
      "display_name": "Python 3"
    },
    "language_info": {
      "name": "python"
    }
  },
  "cells": [
    {
      "cell_type": "code",
      "source": [
        "import numpy as np\n",
        "\n",
        "A = np.array([[0, 1],             [2, 3],\n",
        "              [4, 5]])\n",
        "B = np.array([[0, 1, 2, 3],\n",
        "              [4, 5, 6, 7]])\n",
        "\n",
        "C = np.dot(A, B)\n",
        "\n",
        "print(\"２つの行列の積:\")\n",
        "print(C)\n",
        "\n",
        "max_value = np.max(C)\n",
        "print(\"２つの行列の積の最大値:\", max_value)"
      ],
      "metadata": {
        "colab": {
          "base_uri": "https://localhost:8080/"
        },
        "id": "HIe7jI39KhEA",
        "outputId": "dd0916f8-5b00-4b47-b9b8-f2edc9955d4e"
      },
      "execution_count": 5,
      "outputs": [
        {
          "output_type": "stream",
          "name": "stdout",
          "text": [
            "２つの行列の積:\n",
            "[[ 4  5  6  7]\n",
            " [12 17 22 27]\n",
            " [20 29 38 47]]\n",
            "２つの行列の積の最大値: 47\n"
          ]
        }
      ]
    }
  ]
}